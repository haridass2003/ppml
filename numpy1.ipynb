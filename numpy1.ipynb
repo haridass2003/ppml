{
  "nbformat": 4,
  "nbformat_minor": 0,
  "metadata": {
    "colab": {
      "provenance": [],
      "authorship_tag": "ABX9TyO9ekq//v2hBh8KoJQ7CwbH",
      "include_colab_link": true
    },
    "kernelspec": {
      "name": "python3",
      "display_name": "Python 3"
    },
    "language_info": {
      "name": "python"
    }
  },
  "cells": [
    {
      "cell_type": "markdown",
      "metadata": {
        "id": "view-in-github",
        "colab_type": "text"
      },
      "source": [
        "<a href=\"https://colab.research.google.com/github/haridass2003/ppml/blob/main/numpy1.ipynb\" target=\"_parent\"><img src=\"https://colab.research.google.com/assets/colab-badge.svg\" alt=\"Open In Colab\"/></a>"
      ]
    },
    {
      "cell_type": "code",
      "execution_count": null,
      "metadata": {
        "colab": {
          "base_uri": "https://localhost:8080/"
        },
        "id": "4PS3idXkd-J8",
        "outputId": "45e112d3-263c-4615-926c-f35af2af78c9"
      },
      "outputs": [
        {
          "output_type": "stream",
          "name": "stdout",
          "text": [
            "Array created using passed list:\n",
            " [[1 2 4]\n",
            " [5 8 7]]\n"
          ]
        }
      ],
      "source": [
        "import numpy as np\n",
        "\n",
        "a = np.array([[1, 2, 4], [5, 8, 7]])\n",
        "\n",
        "print (\"Array created using passed list:\\n\", a)"
      ]
    },
    {
      "cell_type": "code",
      "source": [
        "# Creating a 3X4 array with all zeros\n",
        "b = np.zeros((3, 4))\n",
        "print (\"\\nAn array initialized with all zeros:\\n\", b)"
      ],
      "metadata": {
        "colab": {
          "base_uri": "https://localhost:8080/"
        },
        "id": "xoS584iLe56C",
        "outputId": "e02bb009-a56d-4bc2-98fa-c2f3a352038d"
      },
      "execution_count": null,
      "outputs": [
        {
          "output_type": "stream",
          "name": "stdout",
          "text": [
            "\n",
            "An array initialized with all zeros:\n",
            " [[0. 0. 0. 0.]\n",
            " [0. 0. 0. 0.]\n",
            " [0. 0. 0. 0.]]\n"
          ]
        }
      ]
    },
    {
      "cell_type": "code",
      "source": [
        "#Create a constant value array of complex type\n",
        "c = np.full((3, 3), 6)\n",
        "print (\"\\nAn array initialized with all 6s.\\n\", c)"
      ],
      "metadata": {
        "colab": {
          "base_uri": "https://localhost:8080/"
        },
        "id": "5bVZ2KJGfAHt",
        "outputId": "5fdb300f-5d9e-43f3-af76-081a81dd4e43"
      },
      "execution_count": null,
      "outputs": [
        {
          "output_type": "stream",
          "name": "stdout",
          "text": [
            "\n",
            "An array initialized with all 6s.\n",
            " [[6 6 6]\n",
            " [6 6 6]\n",
            " [6 6 6]]\n"
          ]
        }
      ]
    },
    {
      "cell_type": "code",
      "source": [
        "#Create a constant value array of complex type\n",
        "c = np.full((3, 3), 6)\n",
        "print (\"\\nAn array initialized with all 6s.\\n\", c)"
      ],
      "metadata": {
        "colab": {
          "base_uri": "https://localhost:8080/"
        },
        "id": "I2B4oc3nfa4N",
        "outputId": "73ae8061-f3de-4599-bb55-2ffb5a116ad6"
      },
      "execution_count": null,
      "outputs": [
        {
          "output_type": "stream",
          "name": "stdout",
          "text": [
            "\n",
            "An array initialized with all 6s.\n",
            " [[6 6 6]\n",
            " [6 6 6]\n",
            " [6 6 6]]\n"
          ]
        }
      ]
    },
    {
      "cell_type": "code",
      "source": [
        "#Create an array with random values\n",
        "\n",
        "d = np.random.random((2, 2))\n",
        "print (\"\\nA random array:\\n\", d)"
      ],
      "metadata": {
        "colab": {
          "base_uri": "https://localhost:8080/"
        },
        "id": "pD26KQ98fe0V",
        "outputId": "9b17db64-c42c-4687-8447-ff72231dec6e"
      },
      "execution_count": null,
      "outputs": [
        {
          "output_type": "stream",
          "name": "stdout",
          "text": [
            "\n",
            "A random array:\n",
            " [[0.44003596 0.1895837 ]\n",
            " [0.95921821 0.68457856]]\n"
          ]
        }
      ]
    },
    {
      "cell_type": "code",
      "source": [
        "#Reshaping 3X4 array to 4X3 array\n",
        "\n",
        "arr = np.array([[1, 2, 3, 4],\n",
        "\n",
        "[5, 2, 4, 2],\n",
        "\n",
        "[1, 2, 0, 1]])\n",
        "\n",
        "newarr = arr.reshape(4, 3)\n",
        "\n",
        "print (\"\\nOriginal array:\\n\", arr)\n",
        "\n",
        "print (\"Reshaped array[4,3]:\\n\", newarr)"
      ],
      "metadata": {
        "colab": {
          "base_uri": "https://localhost:8080/"
        },
        "id": "sTNqc3QlflTK",
        "outputId": "c40bdddf-829b-4f9c-8de3-fa383d40e11b"
      },
      "execution_count": null,
      "outputs": [
        {
          "output_type": "stream",
          "name": "stdout",
          "text": [
            "\n",
            "Original array:\n",
            " [[1 2 3 4]\n",
            " [5 2 4 2]\n",
            " [1 2 0 1]]\n",
            "Reshaped array[4,3]:\n",
            " [[1 2 3]\n",
            " [4 5 2]\n",
            " [4 2 1]\n",
            " [2 0 1]]\n"
          ]
        }
      ]
    },
    {
      "cell_type": "code",
      "source": [
        "#Printing array dimensions (axes)\n",
        "\n",
        "print(\"\\nNo. of dimensions: \", arr.ndim)"
      ],
      "metadata": {
        "colab": {
          "base_uri": "https://localhost:8080/"
        },
        "id": "0lDtc6HBfySS",
        "outputId": "f96b5c92-2656-493a-a08d-d9e90271eac1"
      },
      "execution_count": null,
      "outputs": [
        {
          "output_type": "stream",
          "name": "stdout",
          "text": [
            "\n",
            "No. of dimensions:  2\n"
          ]
        }
      ]
    },
    {
      "cell_type": "code",
      "source": [
        "# Printing shape of array\n",
        "print(\"\\nShape of array: \", arr.shape)"
      ],
      "metadata": {
        "colab": {
          "base_uri": "https://localhost:8080/"
        },
        "id": "mMTwQ7Nmf6O-",
        "outputId": "67bbf974-eba3-4f45-c321-2082c7efec6a"
      },
      "execution_count": null,
      "outputs": [
        {
          "output_type": "stream",
          "name": "stdout",
          "text": [
            "\n",
            "Shape of array:  (3, 4)\n"
          ]
        }
      ]
    },
    {
      "cell_type": "code",
      "source": [
        "# Printing size (total number of elements) of array\n",
        "print(\"\\nSize of array: \", arr.size)"
      ],
      "metadata": {
        "colab": {
          "base_uri": "https://localhost:8080/"
        },
        "id": "GNFzfBGGf-_p",
        "outputId": "af25c072-3deb-4ec2-d42d-6dfb79b776d8"
      },
      "execution_count": null,
      "outputs": [
        {
          "output_type": "stream",
          "name": "stdout",
          "text": [
            "\n",
            "Size of array:  12\n"
          ]
        }
      ]
    },
    {
      "cell_type": "code",
      "source": [
        "# Printing type of elements in array\n",
        "print(\"\\nArray stores elements of type: \",\n",
        "arr.dtype)"
      ],
      "metadata": {
        "colab": {
          "base_uri": "https://localhost:8080/"
        },
        "id": "ytSg5fQugHKN",
        "outputId": "59e8cc3e-4093-4e92-8b3d-4439f2b463bc"
      },
      "execution_count": null,
      "outputs": [
        {
          "output_type": "stream",
          "name": "stdout",
          "text": [
            "\n",
            "Array stores elements of type:  int64\n"
          ]
        }
      ]
    },
    {
      "cell_type": "code",
      "source": [
        "# Flatten array\n",
        "\n",
        "flarr = arr.flatten()\n",
        "\n",
        "print (\"\\nOriginal array:\\n\", arr)\n",
        "\n",
        "print (\"Fattened array:\\n\", flarr)"
      ],
      "metadata": {
        "colab": {
          "base_uri": "https://localhost:8080/"
        },
        "id": "8ybdTtv5gMwd",
        "outputId": "50ef0c16-ce39-411d-ccce-5d6fd8557c18"
      },
      "execution_count": null,
      "outputs": [
        {
          "output_type": "stream",
          "name": "stdout",
          "text": [
            "\n",
            "Original array:\n",
            " [[1 2 3 4]\n",
            " [5 2 4 2]\n",
            " [1 2 0 1]]\n",
            "Fattened array:\n",
            " [1 2 3 4 5 2 4 2 1 2 0 1]\n"
          ]
        }
      ]
    },
    {
      "cell_type": "code",
      "source": [
        "#converting datatypes from integer to float\n",
        "newtype=arr.astype('f')\n",
        "print(\"\\nConverted array elements:\\n\",newtype)\n",
        "print(\"Converted array type:\",newtype.dtype)"
      ],
      "metadata": {
        "colab": {
          "base_uri": "https://localhost:8080/"
        },
        "id": "p-6VgLSXgVL-",
        "outputId": "f3807610-827d-4413-b0a5-7991cd715fd3"
      },
      "execution_count": null,
      "outputs": [
        {
          "output_type": "stream",
          "name": "stdout",
          "text": [
            "\n",
            "Converted array elements:\n",
            " [[1. 2. 3. 4.]\n",
            " [5. 2. 4. 2.]\n",
            " [1. 2. 0. 1.]]\n",
            "Converted array type: float32\n"
          ]
        }
      ]
    }
  ]
}