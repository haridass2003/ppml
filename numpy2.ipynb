{
  "nbformat": 4,
  "nbformat_minor": 0,
  "metadata": {
    "colab": {
      "provenance": [],
      "authorship_tag": "ABX9TyNlcrEAgY8DnR53ZR1sOKRC",
      "include_colab_link": true
    },
    "kernelspec": {
      "name": "python3",
      "display_name": "Python 3"
    },
    "language_info": {
      "name": "python"
    }
  },
  "cells": [
    {
      "cell_type": "markdown",
      "metadata": {
        "id": "view-in-github",
        "colab_type": "text"
      },
      "source": [
        "<a href=\"https://colab.research.google.com/github/haridass2003/ppml/blob/main/numpy2.ipynb\" target=\"_parent\"><img src=\"https://colab.research.google.com/assets/colab-badge.svg\" alt=\"Open In Colab\"/></a>"
      ]
    },
    {
      "cell_type": "code",
      "execution_count": null,
      "metadata": {
        "id": "WCn6FXz7gjXy"
      },
      "outputs": [],
      "source": [
        "import numpy as np\n",
        "\n"
      ]
    },
    {
      "cell_type": "code",
      "source": [
        "# Slicing the Array\n",
        "arr = np.array([[1, 2, 3, 4],\n",
        "[5, 2, 4, 2],\n",
        "[3, 5, 8, 9],\n",
        "[5, 9, 2, 0],\n",
        "[1, 2, 0, 1]])\n",
        "print(\"every alternate row\\n\",arr[0:4:2])"
      ],
      "metadata": {
        "colab": {
          "base_uri": "https://localhost:8080/"
        },
        "id": "L0kgkvKShKAD",
        "outputId": "d7a21a2a-df98-4c3f-81d3-33b81b138164"
      },
      "execution_count": null,
      "outputs": [
        {
          "output_type": "stream",
          "name": "stdout",
          "text": [
            "every alternate row\n",
            " [[1 2 3 4]\n",
            " [3 5 8 9]]\n"
          ]
        }
      ]
    },
    {
      "cell_type": "code",
      "source": [
        "print(\"first 2 rows and 3 columns\\n\",arr[:2,:3])"
      ],
      "metadata": {
        "colab": {
          "base_uri": "https://localhost:8080/"
        },
        "id": "epDQMLzEhTj1",
        "outputId": "de38dd88-e719-47fe-cfc4-f4627c4567da"
      },
      "execution_count": null,
      "outputs": [
        {
          "output_type": "stream",
          "name": "stdout",
          "text": [
            "first 2 rows and 3 columns\n",
            " [[1 2 3]\n",
            " [5 2 4]]\n"
          ]
        }
      ]
    },
    {
      "cell_type": "code",
      "source": [
        "print(\"except first 2 rows and 2columns\\n\",arr[2:,2:])"
      ],
      "metadata": {
        "colab": {
          "base_uri": "https://localhost:8080/"
        },
        "id": "6-d0DWNGhWvD",
        "outputId": "aeeddfde-d957-44f1-b441-e486dc62cfb1"
      },
      "execution_count": null,
      "outputs": [
        {
          "output_type": "stream",
          "name": "stdout",
          "text": [
            "except first 2 rows and 2columns\n",
            " [[8 9]\n",
            " [2 0]\n",
            " [0 1]]\n"
          ]
        }
      ]
    },
    {
      "cell_type": "code",
      "source": [
        "print(\"extracting 2nd row, 3rd value\\n\",arr[2,3])\n",
        "print(\"first 2 rows\\n\", arr[:2])"
      ],
      "metadata": {
        "colab": {
          "base_uri": "https://localhost:8080/"
        },
        "id": "T4kgy1M-hiN8",
        "outputId": "0d6c585e-c684-4903-9d36-b429649af601"
      },
      "execution_count": null,
      "outputs": [
        {
          "output_type": "stream",
          "name": "stdout",
          "text": [
            "extracting 2nd row, 3rd value\n",
            " 9\n",
            "first 2 rows\n",
            " [[1 2 3 4]\n",
            " [5 2 4 2]]\n"
          ]
        }
      ]
    },
    {
      "cell_type": "code",
      "source": [
        "#original array\n",
        "print(\"Original array:\\n\", arr)"
      ],
      "metadata": {
        "colab": {
          "base_uri": "https://localhost:8080/"
        },
        "id": "B7ZsTS4Thorc",
        "outputId": "64cefd2f-b698-4764-caf5-acae5184ff8b"
      },
      "execution_count": null,
      "outputs": [
        {
          "output_type": "stream",
          "name": "stdout",
          "text": [
            "Original array:\n",
            " [[1 2 3 4]\n",
            " [5 2 4 2]\n",
            " [3 5 8 9]\n",
            " [5 9 2 0]\n",
            " [1 2 0 1]]\n"
          ]
        }
      ]
    },
    {
      "cell_type": "code",
      "source": [
        "temp = arr[[0, 1, 2, 3], [3, 2, 1, 0]]\n",
        "print (\"\\nElements at indices (0, 3), (1, 2), (2, 1),\"\n",
        "\"(3, 0):\\n\", temp)"
      ],
      "metadata": {
        "colab": {
          "base_uri": "https://localhost:8080/"
        },
        "id": "l4SrxVq7hsYF",
        "outputId": "99d78451-19df-4ba5-dc7a-a7c55e97f81b"
      },
      "execution_count": null,
      "outputs": [
        {
          "output_type": "stream",
          "name": "stdout",
          "text": [
            "\n",
            "Elements at indices (0, 3), (1, 2), (2, 1),(3, 0):\n",
            " [4 4 5 5]\n"
          ]
        }
      ]
    },
    {
      "cell_type": "code",
      "source": [
        "# boolean array indexing example\n",
        "cond = arr > 2\n",
        "# cond is a boolean array\n",
        "temp = arr[cond]\n",
        "print (\"\\nElements greater than 2:\\n\",\n",
        "temp)"
      ],
      "metadata": {
        "colab": {
          "base_uri": "https://localhost:8080/"
        },
        "id": "05Qo-FoHh05E",
        "outputId": "07fae35b-7986-498e-d8c2-198dec33a4d2"
      },
      "execution_count": null,
      "outputs": [
        {
          "output_type": "stream",
          "name": "stdout",
          "text": [
            "\n",
            "Elements greater than 2:\n",
            " [3 4 5 4 3 5 8 9 5 9]\n"
          ]
        }
      ]
    },
    {
      "cell_type": "code",
      "source": [
        "#joining two array\n",
        "arr1 = np.array([1, 2, 3])\n",
        "arr2 = np.array([4, 5, 6])\n",
        "arr = np.concatenate((arr1, arr2))\n",
        "print(\"\\nOriginal arrays:\\n\",arr1,arr2)\n",
        "print(\"\\nJoined array:\\n\",arr)"
      ],
      "metadata": {
        "colab": {
          "base_uri": "https://localhost:8080/"
        },
        "id": "LVU2vlSLh5E5",
        "outputId": "1959af94-d089-4b2c-cf8e-3ba5b400e2a8"
      },
      "execution_count": null,
      "outputs": [
        {
          "output_type": "stream",
          "name": "stdout",
          "text": [
            "\n",
            "Original arrays:\n",
            " [1 2 3] [4 5 6]\n",
            "\n",
            "Joined array:\n",
            " [1 2 3 4 5 6]\n"
          ]
        }
      ]
    },
    {
      "cell_type": "code",
      "source": [
        "#Horizontal join\n",
        "arr = np.hstack((arr1, arr2))\n",
        "print(\"\\horizontal joining:\\n\",arr)"
      ],
      "metadata": {
        "colab": {
          "base_uri": "https://localhost:8080/"
        },
        "id": "7wg2UILMh9jc",
        "outputId": "f8376233-a17b-40c3-ae6f-a015b99cec03"
      },
      "execution_count": null,
      "outputs": [
        {
          "output_type": "stream",
          "name": "stdout",
          "text": [
            "\\horizontal joining:\n",
            " [1 2 3 4 5 6]\n"
          ]
        }
      ]
    },
    {
      "cell_type": "code",
      "source": [
        "#Vertical join\n",
        "print(\"\\nOriginal arrays:\\n\",arr1,arr2)\n",
        "\n",
        "arr = np.vstack((arr1, arr2))\n",
        "print(\"\\nVertical joining:\\n\",arr)"
      ],
      "metadata": {
        "colab": {
          "base_uri": "https://localhost:8080/"
        },
        "id": "zBFX91hCiBcy",
        "outputId": "1a244cac-e4d9-4d81-de6a-e73fb6b3e6a3"
      },
      "execution_count": null,
      "outputs": [
        {
          "output_type": "stream",
          "name": "stdout",
          "text": [
            "\n",
            "Original arrays:\n",
            " [1 2 3] [4 5 6]\n",
            "\n",
            "Vertical joining:\n",
            " [[1 2 3]\n",
            " [4 5 6]]\n"
          ]
        }
      ]
    },
    {
      "cell_type": "code",
      "source": [
        "#Splitting array\n",
        "arr = np.array([1, 2, 3, 4, 5, 6])\n",
        "newarr = np.array_split(arr, 3)\n",
        "print(\"\\nOriginal Array:\\n\",arr)\n",
        "print(\"\\nSplitted array:\\n\",newarr)"
      ],
      "metadata": {
        "colab": {
          "base_uri": "https://localhost:8080/"
        },
        "id": "DacPrWONiFL3",
        "outputId": "815daa4c-6862-448c-effe-1bda428fd1c7"
      },
      "execution_count": null,
      "outputs": [
        {
          "output_type": "stream",
          "name": "stdout",
          "text": [
            "\n",
            "Original Array:\n",
            " [1 2 3 4 5 6]\n",
            "\n",
            "Splitted array:\n",
            " [array([1, 2]), array([3, 4]), array([5, 6])]\n"
          ]
        }
      ]
    },
    {
      "cell_type": "code",
      "source": [
        "#Displaying split array in another form\n",
        "print(\"\\nSplit array in another form:\\n\")\n",
        "print(newarr[0])\n",
        "print(newarr[1])\n",
        "print(newarr[2])"
      ],
      "metadata": {
        "colab": {
          "base_uri": "https://localhost:8080/"
        },
        "id": "_JAVd4gWiLl3",
        "outputId": "5157cab4-9765-4b8d-e7f1-a14f5267f462"
      },
      "execution_count": null,
      "outputs": [
        {
          "output_type": "stream",
          "name": "stdout",
          "text": [
            "\n",
            "Split array in another form:\n",
            "\n",
            "[1 2]\n",
            "[3 4]\n",
            "[5 6]\n"
          ]
        }
      ]
    },
    {
      "cell_type": "code",
      "source": [
        "#indexes where the value is 4:\n",
        "arr = np.array([1, 2, 3, 4, 5, 4, 4])\n",
        "print(\"Original array:\",arr)\n",
        "x = np.where(arr == 4)\n",
        "print(\"\\nIndexes where the value is 4:\",x)"
      ],
      "metadata": {
        "colab": {
          "base_uri": "https://localhost:8080/"
        },
        "id": "mIeipX8SiP5W",
        "outputId": "c296b34c-b150-4cd4-f146-37853c306b15"
      },
      "execution_count": null,
      "outputs": [
        {
          "output_type": "stream",
          "name": "stdout",
          "text": [
            "Original array: [1 2 3 4 5 4 4]\n",
            "\n",
            "Indexes where the value is 4: (array([3, 5, 6]),)\n"
          ]
        }
      ]
    },
    {
      "cell_type": "code",
      "source": [
        "#Sorting the array\n",
        "arr = np.array([3, 2, 0, 1])\n",
        "print(\"\\nOriginal array:\",arr)\n",
        "print(\"\\nSorted array:\",np.sort(arr))"
      ],
      "metadata": {
        "colab": {
          "base_uri": "https://localhost:8080/"
        },
        "id": "TNtKhx3kiW7A",
        "outputId": "f5b6023c-faf3-4cff-b0f8-dee626e33ded"
      },
      "execution_count": null,
      "outputs": [
        {
          "output_type": "stream",
          "name": "stdout",
          "text": [
            "\n",
            "Original array: [3 2 0 1]\n",
            "\n",
            "Sorted array: [0 1 2 3]\n"
          ]
        }
      ]
    },
    {
      "cell_type": "code",
      "source": [
        "arr = np.array([[3, 2, 4], [5, 0, 1]])\n",
        "print(\"\\nOriginal array:\",arr)\n",
        "print(\"\\nSorted array:\",np.sort(arr))"
      ],
      "metadata": {
        "colab": {
          "base_uri": "https://localhost:8080/"
        },
        "id": "0yBsZ-QEiajv",
        "outputId": "638e3ef2-24af-4a17-89e8-c5cc3f53caca"
      },
      "execution_count": null,
      "outputs": [
        {
          "output_type": "stream",
          "name": "stdout",
          "text": [
            "\n",
            "Original array: [[3 2 4]\n",
            " [5 0 1]]\n",
            "\n",
            "Sorted array: [[2 3 4]\n",
            " [0 1 5]]\n"
          ]
        }
      ]
    },
    {
      "cell_type": "code",
      "source": [
        "#Filter\n",
        "arr = np.array([41, 42, 43, 44])\n",
        "x = [True, False, True, False]\n",
        "newarr = arr[x]\n",
        "print(\"\\nOriginal array:\",arr)\n",
        "print(\"\\nFilter index:\",x)\n",
        "print(\"\\nFilter array:\",newarr)"
      ],
      "metadata": {
        "id": "0TOqriuBifTO",
        "outputId": "bb72daf5-058a-4f83-e7e5-5ebd90ddc7da",
        "colab": {
          "base_uri": "https://localhost:8080/"
        }
      },
      "execution_count": null,
      "outputs": [
        {
          "output_type": "stream",
          "name": "stdout",
          "text": [
            "\n",
            "Original array: [41 42 43 44]\n",
            "\n",
            "Filter index: [True, False, True, False]\n",
            "\n",
            "Filter array: [41 43]\n"
          ]
        }
      ]
    }
  ]
}